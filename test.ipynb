{
 "cells": [
  {
   "cell_type": "code",
   "execution_count": null,
   "metadata": {},
   "outputs": [],
   "source": [
    "user_data_dir = \"user-data-dir=D:\\\\gather-town-music-bot\\\\usr-data-dir\"\n",
    "gather_town_url = 'https://app.gather.town/invite?token='\n",
    "path_to_mpv = \"D:/bootstrapper/mpv.exe\"\n",
    "path_to_chrome_driver = 'chromedriver'"
   ]
  },
  {
   "cell_type": "code",
   "execution_count": 23,
   "metadata": {},
   "outputs": [],
   "source": [
    "#last updated 2/8/2565\n",
    "join_xpath = '/html/body/div/div/div/div[2]/div[2]/form/div/button'\n",
    "chat_input_xpath = '/html/body/div/div/div[6]/div/div[1]/div[3]/div[2]/div[3]/div[2]/div[2]/div/input'\n",
    "chat_button_xpath = '/html/body/div/div/div[6]/div/div[2]/div[2]/div[3]/button'\n",
    "chat_seletect_target_xpath = '/html/body/div/div/div[6]/div/div[1]/div[3]/div[2]/div[3]/div[2]/div[1]/div/button'\n",
    "char_target_nearby_xpath = '/html/body/div/div/div[6]/div/div[1]/div[3]/div[2]/div[3]/div[2]/div[1]/div/div/button[1]'"
   ]
  },
  {
   "cell_type": "code",
   "execution_count": null,
   "metadata": {},
   "outputs": [],
   "source": [
    "from selenium import webdriver\n",
    "from selenium.webdriver.common.keys import Keys\n",
    "from time import sleep\n",
    "from selenium.webdriver.support.ui import WebDriverWait\n",
    "from selenium.webdriver.support import expected_conditions as EC\n",
    "from selenium.webdriver.common.by import By\n",
    "from selenium.common.exceptions import TimeoutException\n",
    "from selenium.webdriver import Chrome, ChromeOptions\n",
    "from fake_useragent import UserAgent\n",
    "from selenium.webdriver.common.desired_capabilities import DesiredCapabilities\n",
    "import re, requests, subprocess, urllib.parse, urllib.request\n",
    "from bs4 import BeautifulSoup\n",
    "import validators\n",
    "import psutil\n",
    "import string\n",
    "\n",
    "d = DesiredCapabilities.CHROME\n",
    "d['goog:loggingPrefs'] = { 'browser':'ALL' }\n",
    "\n",
    "ua = UserAgent()\n",
    "options = ChromeOptions()\n",
    "# options.add_argument('--headless')\n",
    "options.add_argument('--no-sandbox')\n",
    "options.add_argument('--disable-dev-shm-usage')\n",
    "options.add_argument('--profile-directory=Default')\n",
    "options.add_argument(user_data_dir)\n",
    "options.add_experimental_option('excludeSwitches', ['enable-logging'])\n",
    "# userAgent = ua.random\n",
    "# options.add_argument(f'user-agent={userAgent}')\n",
    "# create a webdriver instance, ready to use\n",
    "wd = Chrome('chromedriver',options=options,desired_capabilities=d)\n",
    "\n",
    "def newDriver():\n",
    "    global wd\n",
    "    options = ChromeOptions()\n",
    "    # options.add_argument('--headless')\n",
    "    options.add_argument('--no-sandbox')\n",
    "    options.add_argument('--disable-dev-shm-usage')\n",
    "    options.add_argument('--profile-directory=Default')\n",
    "    options.add_argument(user_data_dir)\n",
    "    options.add_argument(\"use-fake-ui-for-media-stream\")\n",
    "    # options.add_argument(\"--use-fake-device-for-media-stream\")\n",
    "    # options.add_argument(\"--use-file-for-fake-video-capture\")\n",
    "    # userAgent = ua.random\n",
    "    # options.add_argument(f'user-agent={userAgent}')\n",
    "    # create a webdriver instance, ready to use\n",
    "    wd = Chrome(path_to_chrome_driver,options=options)\n",
    "\n",
    "# make it easier to query and explore elements\n",
    "from selenium.webdriver.remote.webelement import WebElement\n",
    "WebElement.__str__ = lambda self: self.get_attribute('outerHTML')\n",
    "WebElement.__repr__ = WebElement.__str__\n",
    "Chrome.select = WebElement.select = lambda self, v: self.find_elements('css selector', v)\n",
    "Chrome.select1 = WebElement.select1 = lambda self, v: self.find_element('css selector', v)\n",
    "WebElement.__getitem__ = WebElement.get_attribute\n",
    "# show screenshot easily with _repr_png_\n",
    "def _screen_shot(self):\n",
    "    from tempfile import NamedTemporaryFile as TempFile\n",
    "    tmp = TempFile(suffix='.png')\n",
    "    self.save_screenshot(tmp.name)\n",
    "    return tmp.read()\n",
    "Chrome._repr_png_ = _screen_shot\n",
    "sleep(3)\n"
   ]
  },
  {
   "cell_type": "code",
   "execution_count": 20,
   "metadata": {},
   "outputs": [],
   "source": [
    "def login():\n",
    "    wd.get()\n",
    "    WebDriverWait(wd, 20).until(EC.presence_of_element_located((By.XPATH, join_xpath))).click()\n",
    "    WebDriverWait(wd, 20).until(EC.presence_of_element_located((By.XPATH, chat_button_xpath))).click()\n",
    "    WebDriverWait(wd, 20).until(EC.presence_of_element_located((By.XPATH, chat_seletect_target_xpath)))\n",
    "    script = 'game.subscribeToEvent(\"playerChats\", (data, _context) => {const message = data.playerChats.contents;console.log(message);})'\n",
    "    wd.execute_script(script)"
   ]
  },
  {
   "cell_type": "code",
   "execution_count": 14,
   "metadata": {},
   "outputs": [],
   "source": [
    "def refresh():\n",
    "    wd.quit()\n",
    "    newDriver()\n",
    "    sleep(3)#avoid chrome driver error: unknown responds msg\n",
    "    login()"
   ]
  },
  {
   "cell_type": "code",
   "execution_count": 21,
   "metadata": {},
   "outputs": [],
   "source": [
    "login()"
   ]
  },
  {
   "cell_type": "code",
   "execution_count": 24,
   "metadata": {},
   "outputs": [],
   "source": [
    "def send_chat(msg):\n",
    "    try:\n",
    "        wd.find_element_by_xpath(chat_seletect_target_xpath).click()\n",
    "    except:\n",
    "        WebDriverWait(wd, 20).until(EC.presence_of_element_located((By.XPATH, chat_button_xpath))).click()\n",
    "        WebDriverWait(wd, 20).until(EC.presence_of_element_located((By.XPATH, chat_seletect_target_xpath))).click()\n",
    "    WebDriverWait(wd, 20).until(EC.presence_of_element_located((By.XPATH, char_target_nearby_xpath))).click()\n",
    "    chat = wd.find_element_by_xpath(chat_input_xpath)\n",
    "    chat.send_keys(msg)\n",
    "    chat.send_keys(Keys.ENTER)"
   ]
  },
  {
   "cell_type": "code",
   "execution_count": 25,
   "metadata": {},
   "outputs": [],
   "source": [
    "send_chat('Music bot is ready')"
   ]
  },
  {
   "cell_type": "code",
   "execution_count": 26,
   "metadata": {},
   "outputs": [],
   "source": [
    "script_teleport = '''\n",
    "    function getPlayers() \n",
    "    {\n",
    "        let playersOnServer = [];\n",
    "        for (player in game.players) {\n",
    "            playersOnServer[game.players[player].name] = player;\n",
    "        }\n",
    "        return playersOnServer;\n",
    "    };\n",
    "    function teleportTo(targetName) \n",
    "    {\n",
    "        let playersOnServer = getPlayers();\n",
    "\n",
    "        game.teleport(game.players[playersOnServer[targetName]].map, game.players[playersOnServer[targetName]].x,\n",
    "            game.players[playersOnServer[targetName]].y)\n",
    "    };\n",
    "    '''\n",
    "#cr. gather 518\n",
    "# wd.execute_script(script_teleport)"
   ]
  },
  {
   "cell_type": "code",
   "execution_count": 27,
   "metadata": {},
   "outputs": [],
   "source": [
    "yt_title = ''\n",
    "play_list = []\n",
    "play_list_name = []\n",
    "playing_process = None\n",
    "is_stop = False"
   ]
  },
  {
   "cell_type": "code",
   "execution_count": 28,
   "metadata": {},
   "outputs": [],
   "source": [
    "def add_to_queue(value):\n",
    "    global yt_title,play_list_name,play_list\n",
    "    if validators.url(value):\n",
    "        print('playing from url')\n",
    "        clip2 = value\n",
    "        # clip = requests.get(clip2)\n",
    "    else:\n",
    "        music_name = value\n",
    "        print('seaching music name:',music_name)\n",
    "        query_string = urllib.parse.urlencode({\"search_query\": music_name})\n",
    "        formatUrl = urllib.request.urlopen(\"https://www.youtube.com/results?\" + query_string)\n",
    "        search_results = re.findall(r\"watch\\?v=(\\S{11})\", formatUrl.read().decode())\n",
    "        clip2 = \"https://www.youtube.com/watch?v=\" + \"{}\".format(search_results[0])\n",
    "    clip = requests.get(clip2)\n",
    "    inspect = BeautifulSoup(clip.content, \"html.parser\")\n",
    "    yt_title = inspect.find_all(\"meta\", property=\"og:title\")[0]['content']\n",
    "    print('yt_title:',yt_title)\n",
    "    wd.execute_script('game.setName(\\\"🔊 '+yt_title+'\\\");')\n",
    "    # for concatMusic1 in yt_title:\n",
    "    #     pass\n",
    "\n",
    "    # print(concatMusic1['content'])\n",
    "    play_list_name.append(yt_title)\n",
    "    play_list.append(clip2)\n",
    "    #copy from stackoverflow"
   ]
  },
  {
   "cell_type": "code",
   "execution_count": 29,
   "metadata": {},
   "outputs": [],
   "source": [
    "def play_music(clip2:str):  \n",
    "    play = subprocess.Popen(\n",
    "        path_to_mpv+\" \" + \n",
    "        clip2 + \n",
    "        \" --no-video\",\n",
    "        shell=True)\n",
    "    return play"
   ]
  },
  {
   "cell_type": "code",
   "execution_count": 30,
   "metadata": {},
   "outputs": [],
   "source": [
    "def kill(processs):\n",
    "    try:\n",
    "        proc_pid = processs.pid\n",
    "        process = psutil.Process(proc_pid)\n",
    "        for proc in process.children(recursive=True):\n",
    "            proc.kill()\n",
    "        process.kill()\n",
    "    except:\n",
    "        print(\"kill error\")"
   ]
  },
  {
   "cell_type": "code",
   "execution_count": 31,
   "metadata": {},
   "outputs": [],
   "source": [
    "def remove_special(line):\n",
    "    line = line.translate(string.maketrans('', ''), '\\'\\\"\\\\!@#$;:/><()}{|]`[')\n",
    "    return line"
   ]
  },
  {
   "cell_type": "code",
   "execution_count": 32,
   "metadata": {},
   "outputs": [],
   "source": [
    "def pop0():\n",
    "    global play_list,play_list_name\n",
    "    if len(play_list) > 0:
    "        play_list.pop(0)\n",
    "        play_list_name.pop(0)"
   ]
  },
  {
   "cell_type": "code",
   "execution_count": 33,
   "metadata": {},
   "outputs": [],
   "source": [
    "def print_song_list():\n",
    "    global play_list_name\n",
    "    send_chat(f'{len(play_list)} song in queue.')\n",
    "    for index,song in enumerate(play_list_name):\n",
    "        send_chat(f'{index+1}. {song}')"
   ]
  },
  {
   "cell_type": "code",
   "execution_count": 37,
   "metadata": {},
   "outputs": [],
   "source": [
    "def help():\n",
    "    help = '''!play song_name ex. !p baby shark\\n\n",
    "    !teleport username ex. !teleport bot\\n\n",
    "    !stop to stop bot from playing music\\n\n",
    "    !skip to skip playing song\\n\n",
    "    !purge to clear all song in queue\\n\n",
    "    !list to show all song in queue\\n\n",
    "    not suppoert special characters\n",
    "    '''\n",
    "    send_chat(help)"
   ]
  },
  {
   "cell_type": "code",
   "execution_count": 38,
   "metadata": {},
   "outputs": [],
   "source": [
    "def start_service():\n",
    "    global play_list,play_list_name,playing_process,is_stop\n",
    "    while True:\n",
    "        try:\n",
    "            while True:\n",
    "                for entry in wd.get_log('browser'):\n",
    "                    text = entry.get('message')[19:-1]\n",
    "                    if text[0] == '!':\n",
    "                        print(text)\n",
    "                        commands = text.split()\n",
    "                        func = str(commands[0]).lower()\n",
    "                        if func == '!p' or func == \"!play\":\n",
    "                            is_stop = False\n",
    "                            song = text[len(commands[0])+1:]\n",
    "                            add_to_queue(song)\n",
    "                        elif func == \"!tp\" or func == \"!teleport\":\n",
    "                            name = text[len(commands[0])+1:] \n",
    "                            name = remove_special(name)\n",
    "                            wd.execute_script('game.leaveWhisper();gameSpace.cancelFollow();gameSpace._cancelMove();')\n",
    "                            wd.execute_script(script_teleport+'teleportTo(\\\"'+name+'\\\");')\n",
    "                        elif func == \"!f\" or func == \"!follow\":\n",
    "                            pass\n",
    "                        elif func == \"!st\" or func == \"!stop\":\n",
    "                            if playing_process:\n",
    "                                kill(playing_process)\n",
    "                                is_stop = True\n",
    "                                pop0()\n",
    "                        elif func == \"!sk\" or func == \"!skip\":\n",
    "                            kill(playing_process)\n",
    "                            pop0()\n",
    "                        elif func == \"!purge\":\n",
    "                            kill(playing_process)\n",
    "                            play_list = []\n",
    "                            wd.execute_script('game.setName(\\\"[Bot] Not Playing 🔇 \\\");')\n",
    "                        elif func == '!list' or func == '!l':\n",
    "                            print_song_list()\n",
    "                        elif func == '!help':\n",
    "                            help()\n",
    "                if playing_process != None:\n",
    "                    if not psutil.pid_exists(playing_process.pid):\n",
    "                        print('song ended')\n",
    "                        playing_process = None\n",
    "                        pop0()\n",
    "                        wd.execute_script('game.setName(\\\"[Bot] Not Playing 🔇 \\\");')\n",
    "                if playing_process is None and not is_stop and len(play_list)>0:\n",
    "                    print(\"starting new song in queue\")\n",
    "                    playing_process = play_music(play_list[0])\n",
    "                    if len(play_list) == 1:\n",
    "                        print('no more song in list')\n",
    "                sleep(0.5)\n",
    "        finally:\n",
    "            # kill(playing_process)\n",
    "            # pop0()\n",
    "            # wd.execute_script('game.setName(\\\"[Bot] Not Playing 🔇\\\");')\n",
    "            pass"
   ]
  },
  {
   "cell_type": "code",
   "execution_count": null,
   "metadata": {},
   "outputs": [],
   "source": [
    "start_service()"
   ]
  },
  {
   "cell_type": "code",
   "execution_count": null,
   "metadata": {},
   "outputs": [],
   "source": []
  }
 ],
 "metadata": {
  "kernelspec": {
   "display_name": "Python 3.7.9 64-bit",
   "language": "python",
   "name": "python3"
  },
  "language_info": {
   "codemirror_mode": {
    "name": "ipython",
    "version": 3
   },
   "file_extension": ".py",
   "mimetype": "text/x-python",
   "name": "python",
   "nbconvert_exporter": "python",
   "pygments_lexer": "ipython3",
   "version": "3.7.9"
  },
  "orig_nbformat": 4,
  "vscode": {
   "interpreter": {
    "hash": "47acfd36b4a698d100796428813311ecacef03b489c77dd1fdf080373e214244"
   }
  }
 },
 "nbformat": 4,
 "nbformat_minor": 2
}
